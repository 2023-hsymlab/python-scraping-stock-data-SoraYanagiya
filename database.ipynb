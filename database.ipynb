{
 "cells": [
  {
   "cell_type": "code",
   "execution_count": 1,
   "metadata": {},
   "outputs": [],
   "source": [
    "# 必要モジュールをインポートする\n",
    "import sqlite3\n",
    "\n",
    "# データベースに接続する\n",
    "conn = sqlite3.connect('database.db')\n",
    "c = conn.cursor()\n",
    "\n",
    "# テーブルの作成\n",
    "c.execute('''CREATE TABLE IF NOT EXISTS stock(name text, id text, num integer)''')\n",
    "\n",
    "# データの入力\n",
    "id_input = input(\"idを入力\")\n",
    "name_input = input(\"名前を入力\")\n",
    "num_input = input(\"個数を入力\")\n",
    "\n",
    "# データの挿入\n",
    "c.execute('INSERT INTO stock VALUES (?, ?, ?)', (name_input, id_input, num_input))\n",
    "\n",
    "# 挿入した結果を保存（コミット）する\n",
    "conn.commit()\n",
    "\n",
    "# データベースへのアクセスが終わったら close する\n",
    "conn.close()"
   ]
  },
  {
   "cell_type": "code",
   "execution_count": 2,
   "metadata": {},
   "outputs": [
    {
     "name": "stdout",
     "output_type": "stream",
     "text": [
      "('', '', '')\n",
      "('', '', '')\n",
      "('7974.JP', 'Nintendo', 100)\n",
      "('7832.JP', 'バンダイナムコ', 100)\n"
     ]
    }
   ],
   "source": [
    "# データベースに接続する\n",
    "conn = sqlite3.connect('database.db')\n",
    "c = conn.cursor()\n",
    "\n",
    "# レコードを生年月日の降順で取得する\n",
    "for row in c.execute('SELECT * FROM stock ORDER BY num DESC'):\n",
    "    print(row)\n",
    "\n",
    "# データベースへのアクセスが終わったら close する\n",
    "conn.close()"
   ]
  },
  {
   "cell_type": "code",
   "execution_count": 3,
   "metadata": {},
   "outputs": [
    {
     "name": "stdout",
     "output_type": "stream",
     "text": [
      "('7974.JP', 'Nintendo', 100)\n",
      "('7832.JP', 'バンダイナムコ', 100)\n"
     ]
    }
   ],
   "source": [
    "# データベースに接続する\n",
    "conn = sqlite3.connect('database.db')\n",
    "c = conn.cursor()\n",
    "\n",
    "c.execute(\"\"\"DELETE FROM stock where id = \"\";\"\"\")\n",
    "\n",
    "# レコードを生年月日の降順で取得する\n",
    "for row in c.execute('SELECT * FROM stock ORDER BY num DESC'):\n",
    "    print(row)\n",
    "\n",
    "# データベースへのアクセスが終わったら close する\n",
    "conn.close()"
   ]
  }
 ],
 "metadata": {
  "kernelspec": {
   "display_name": "Python 3",
   "language": "python",
   "name": "python3"
  },
  "language_info": {
   "codemirror_mode": {
    "name": "ipython",
    "version": 3
   },
   "file_extension": ".py",
   "mimetype": "text/x-python",
   "name": "python",
   "nbconvert_exporter": "python",
   "pygments_lexer": "ipython3",
   "version": "3.11.3"
  },
  "orig_nbformat": 4
 },
 "nbformat": 4,
 "nbformat_minor": 2
}
