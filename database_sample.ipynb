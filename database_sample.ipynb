{
 "cells": [
  {
   "cell_type": "code",
   "execution_count": null,
   "metadata": {},
   "outputs": [],
   "source": [
    "# 必要モジュールをインポートする\n",
    "import sqlite3\n",
    "\n",
    "# データベースに接続する\n",
    "conn = sqlite3.connect('example.db')\n",
    "c = conn.cursor()\n",
    "\n",
    "# テーブルの作成\n",
    "c.execute('''CREATE TABLE users(id real, name text, birtyday text)''')\n",
    "\n",
    "# データの挿入\n",
    "c.execute(\"INSERT INTO users VALUES (1, '煌木 太郎', '2001-01-01')\")\n",
    "c.execute(\"INSERT INTO users VALUES (2, '学習 次郎', '2006-05-05')\")\n",
    "c.execute(\"INSERT INTO users VALUES (3, '牌存 花子', '2017-09-10')\")\n",
    "\n",
    "# 挿入した結果を保存（コミット）する\n",
    "conn.commit()\n",
    "\n",
    "# データベースへのアクセスが終わったら close する\n",
    "conn.close()"
   ]
  },
  {
   "cell_type": "code",
   "execution_count": null,
   "metadata": {},
   "outputs": [],
   "source": [
    "# データベースに接続する\n",
    "conn = sqlite3.connect('example.db')\n",
    "c = conn.cursor()\n",
    "\n",
    "# レコードを生年月日の降順で取得する\n",
    "for row in c.execute('SELECT * FROM users ORDER BY birtyday DESC'):\n",
    "    print(row)\n",
    "\n",
    "# データベースへのアクセスが終わったら close する\n",
    "conn.close()"
   ]
  }
 ],
 "metadata": {
  "language_info": {
   "name": "python"
  },
  "orig_nbformat": 4
 },
 "nbformat": 4,
 "nbformat_minor": 2
}
