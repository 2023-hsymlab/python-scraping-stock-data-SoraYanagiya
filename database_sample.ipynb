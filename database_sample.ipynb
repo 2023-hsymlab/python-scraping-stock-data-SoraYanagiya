{
 "cells": [
  {
   "cell_type": "code",
   "execution_count": 3,
   "metadata": {},
   "outputs": [
    {
     "ename": "OperationalError",
     "evalue": "table users already exists",
     "output_type": "error",
     "traceback": [
      "\u001b[0;31m---------------------------------------------------------------------------\u001b[0m",
      "\u001b[0;31mOperationalError\u001b[0m                          Traceback (most recent call last)",
      "Cell \u001b[0;32mIn[3], line 9\u001b[0m\n\u001b[1;32m      6\u001b[0m c \u001b[39m=\u001b[39m conn\u001b[39m.\u001b[39mcursor()\n\u001b[1;32m      8\u001b[0m \u001b[39m# テーブルの作成\u001b[39;00m\n\u001b[0;32m----> 9\u001b[0m c\u001b[39m.\u001b[39;49mexecute(\u001b[39m'''\u001b[39;49m\u001b[39mCREATE TABLE users(id real, name text, birtyday text)\u001b[39;49m\u001b[39m'''\u001b[39;49m)\n\u001b[1;32m     11\u001b[0m \u001b[39m# データの挿入\u001b[39;00m\n\u001b[1;32m     12\u001b[0m c\u001b[39m.\u001b[39mexecute(\u001b[39m\"\u001b[39m\u001b[39mINSERT INTO users VALUES (1, \u001b[39m\u001b[39m'\u001b[39m\u001b[39m煌木 太郎\u001b[39m\u001b[39m'\u001b[39m\u001b[39m, \u001b[39m\u001b[39m'\u001b[39m\u001b[39m2001-01-01\u001b[39m\u001b[39m'\u001b[39m\u001b[39m)\u001b[39m\u001b[39m\"\u001b[39m)\n",
      "\u001b[0;31mOperationalError\u001b[0m: table users already exists"
     ]
    }
   ],
   "source": [
    "# 必要モジュールをインポートする\n",
    "import sqlite3\n",
    "\n",
    "# データベースに接続する\n",
    "conn = sqlite3.connect('example.db')\n",
    "c = conn.cursor()\n",
    "\n",
    "# テーブルの作成\n",
    "c.execute('''CREATE TABLE users(id real, name text, birtyday text)''')\n",
    "\n",
    "# データの挿入\n",
    "c.execute(\"INSERT INTO users VALUES (1, '煌木 太郎', '2001-01-01')\")\n",
    "c.execute(\"INSERT INTO users VALUES (2, '学習 次郎', '2006-05-05')\")\n",
    "c.execute(\"INSERT INTO users VALUES (3, '牌存 花子', '2017-09-10')\")\n",
    "\n",
    "# 挿入した結果を保存（コミット）する\n",
    "conn.commit()\n",
    "\n",
    "# データベースへのアクセスが終わったら close する\n",
    "conn.close()"
   ]
  },
  {
   "cell_type": "code",
   "execution_count": null,
   "metadata": {},
   "outputs": [
    {
     "name": "stdout",
     "output_type": "stream",
     "text": [
      "(3.0, '牌存 花子', '2017-09-10')\n",
      "(2.0, '学習 次郎', '2006-05-05')\n",
      "(1.0, '煌木 太郎', '2001-01-01')\n"
     ]
    }
   ],
   "source": [
    "# データベースに接続する\n",
    "conn = sqlite3.connect('example.db')\n",
    "c = conn.cursor()\n",
    "\n",
    "# レコードを生年月日の降順で取得する\n",
    "for row in c.execute('SELECT * FROM users ORDER BY birtyday DESC'):\n",
    "    print(row)\n",
    "\n",
    "# データベースへのアクセスが終わったら close する\n",
    "conn.close()"
   ]
  }
 ],
 "metadata": {
  "kernelspec": {
   "display_name": "Python 3",
   "language": "python",
   "name": "python3"
  },
  "language_info": {
   "codemirror_mode": {
    "name": "ipython",
    "version": 3
   },
   "file_extension": ".py",
   "mimetype": "text/x-python",
   "name": "python",
   "nbconvert_exporter": "python",
   "pygments_lexer": "ipython3",
   "version": "3.11.3"
  },
  "orig_nbformat": 4
 },
 "nbformat": 4,
 "nbformat_minor": 2
}
