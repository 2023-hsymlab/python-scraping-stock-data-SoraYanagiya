{
 "cells": [
  {
   "cell_type": "code",
   "execution_count": 7,
   "metadata": {},
   "outputs": [],
   "source": [
    "#csvファイルを変更するプログラム\n",
    "\n",
    "import csv\n",
    "\n",
    "header = ['name', 'code', 'num']\n",
    "body = [\n",
    "        ['Nindendo', '7974.JP', '100']\n",
    "    ]\n",
    "\n",
    "with open('data.csv', 'w') as f:\n",
    " \n",
    "  writer = csv.writer(f)\n",
    "  writer.writerow(header)\n",
    "  writer.writerows(body)\n",
    "\n",
    "f.close()"
   ]
  }
 ],
 "metadata": {
  "kernelspec": {
   "display_name": "Python 3",
   "language": "python",
   "name": "python3"
  },
  "language_info": {
   "codemirror_mode": {
    "name": "ipython",
    "version": 3
   },
   "file_extension": ".py",
   "mimetype": "text/x-python",
   "name": "python",
   "nbconvert_exporter": "python",
   "pygments_lexer": "ipython3",
   "version": "3.11.3"
  },
  "orig_nbformat": 4
 },
 "nbformat": 4,
 "nbformat_minor": 2
}
