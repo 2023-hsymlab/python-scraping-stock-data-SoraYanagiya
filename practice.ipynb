{
 "cells": [
  {
   "cell_type": "code",
   "execution_count": 1,
   "metadata": {},
   "outputs": [],
   "source": [
    "import tkinter\n",
    "from tkinter import ttk\n",
    "from tkcalendar import Calendar, DateEntry\n",
    "\n",
    "class TestTkcalender(tkinter.Frame):\n",
    "\n",
    "    def __init__(self,master):\n",
    "        super().__init__(master)\n",
    "        self.pack()\n",
    "        self.master.title(\"tkカレンダーテスト\")\n",
    "        self.master.geometry(\"800x600\")\n",
    "\n",
    "        # カレンダーのスタイル\n",
    "        style = ttk.Style()\n",
    "        style.theme_use('clam')\n",
    "        style.configure('my.DateEntry',\n",
    "                        fieldbackground='light green',\n",
    "                        background='dark green',\n",
    "                        foreground='dark orange',\n",
    "                        arrowcolor='white')\n",
    "\n",
    "        self.data_entry_date = DateEntry(style='my.DateEntry',showweeknumbers=False)\n",
    "        self.data_entry_date.place(x=250, y=230)\n",
    "\n",
    "        self.calender_date = Calendar()\n",
    "        self.calender_date.place(x=500, y=230)\n",
    "\n",
    "def main():\n",
    "    root = tkinter.Tk()\n",
    "    root = TestTkcalender(master=root)\n",
    "    root.mainloop()\n",
    "\n",
    "if __name__ == \"__main__\":\n",
    "    main()"
   ]
  }
 ],
 "metadata": {
  "kernelspec": {
   "display_name": "Python 3",
   "language": "python",
   "name": "python3"
  },
  "language_info": {
   "codemirror_mode": {
    "name": "ipython",
    "version": 3
   },
   "file_extension": ".py",
   "mimetype": "text/x-python",
   "name": "python",
   "nbconvert_exporter": "python",
   "pygments_lexer": "ipython3",
   "version": "3.10.11"
  },
  "orig_nbformat": 4
 },
 "nbformat": 4,
 "nbformat_minor": 2
}
