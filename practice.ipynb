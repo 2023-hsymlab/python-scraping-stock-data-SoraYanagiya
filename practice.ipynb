{
 "cells": [
  {
   "cell_type": "code",
   "execution_count": 4,
   "metadata": {},
   "outputs": [
    {
     "ename": "KeyboardInterrupt",
     "evalue": "",
     "output_type": "error",
     "traceback": [
      "\u001b[1;31m---------------------------------------------------------------------------\u001b[0m",
      "\u001b[1;31mKeyboardInterrupt\u001b[0m                         Traceback (most recent call last)",
      "Cell \u001b[1;32mIn[4], line 31\u001b[0m\n\u001b[0;32m     28\u001b[0m     root\u001b[39m.\u001b[39mmainloop()\n\u001b[0;32m     30\u001b[0m \u001b[39mif\u001b[39;00m \u001b[39m__name__\u001b[39m \u001b[39m==\u001b[39m \u001b[39m\"\u001b[39m\u001b[39m__main__\u001b[39m\u001b[39m\"\u001b[39m:\n\u001b[1;32m---> 31\u001b[0m     main()\n",
      "Cell \u001b[1;32mIn[4], line 28\u001b[0m, in \u001b[0;36mmain\u001b[1;34m()\u001b[0m\n\u001b[0;32m     26\u001b[0m root \u001b[39m=\u001b[39m tkinter\u001b[39m.\u001b[39mTk()\n\u001b[0;32m     27\u001b[0m root \u001b[39m=\u001b[39m TestTkcalender(master\u001b[39m=\u001b[39mroot)\n\u001b[1;32m---> 28\u001b[0m root\u001b[39m.\u001b[39;49mmainloop()\n",
      "File \u001b[1;32mC:\\Program Files\\WindowsApps\\PythonSoftwareFoundation.Python.3.10_3.10.3056.0_x64__qbz5n2kfra8p0\\lib\\tkinter\\__init__.py:1458\u001b[0m, in \u001b[0;36mMisc.mainloop\u001b[1;34m(self, n)\u001b[0m\n\u001b[0;32m   1456\u001b[0m \u001b[39mdef\u001b[39;00m \u001b[39mmainloop\u001b[39m(\u001b[39mself\u001b[39m, n\u001b[39m=\u001b[39m\u001b[39m0\u001b[39m):\n\u001b[0;32m   1457\u001b[0m \u001b[39m    \u001b[39m\u001b[39m\"\"\"Call the mainloop of Tk.\"\"\"\u001b[39;00m\n\u001b[1;32m-> 1458\u001b[0m     \u001b[39mself\u001b[39;49m\u001b[39m.\u001b[39;49mtk\u001b[39m.\u001b[39;49mmainloop(n)\n",
      "\u001b[1;31mKeyboardInterrupt\u001b[0m: "
     ]
    },
    {
     "ename": "",
     "evalue": "",
     "output_type": "error",
     "traceback": [
      "\u001b[1;31mThe Kernel crashed while executing code in the the current cell or a previous cell. Please review the code in the cell(s) to identify a possible cause of the failure. Click <a href='https://aka.ms/vscodeJupyterKernelCrash'>here</a> for more info. View Jupyter <a href='command:jupyter.viewOutput'>log</a> for further details."
     ]
    }
   ],
   "source": [
    "import tkinter\n",
    "from tkinter import ttk\n",
    "from tkcalendar import Calendar, DateEntry\n",
    "\n",
    "class TestTkcalender(tkinter.Frame):\n",
    "\n",
    "    def __init__(self,master):\n",
    "        super().__init__(master)\n",
    "        self.pack()\n",
    "        self.master.title(\"tkカレンダーテスト\")\n",
    "        self.master.geometry(\"800x600\")\n",
    "\n",
    "        # カレンダーのスタイル\n",
    "        style = ttk.Style()\n",
    "        style.theme_use('clam')\n",
    "        style.configure('my.DateEntry',\n",
    "                        fieldbackground='light green',\n",
    "                        background='dark green',\n",
    "                        foreground='dark orange',\n",
    "                        arrowcolor='white')\n",
    "\n",
    "        self.data_entry_date = DateEntry(style='my.DateEntry',showweeknumbers=False)\n",
    "        self.data_entry_date.place(x=250, y=230)\n",
    "\n",
    "def main():\n",
    "    root = tkinter.Tk()\n",
    "    root = TestTkcalender(master=root)\n",
    "    root.mainloop()\n",
    "\n",
    "if __name__ == \"__main__\":\n",
    "    main()"
   ]
  }
 ],
 "metadata": {
  "kernelspec": {
   "display_name": "Python 3",
   "language": "python",
   "name": "python3"
  },
  "language_info": {
   "codemirror_mode": {
    "name": "ipython",
    "version": 3
   },
   "file_extension": ".py",
   "mimetype": "text/x-python",
   "name": "python",
   "nbconvert_exporter": "python",
   "pygments_lexer": "ipython3",
   "version": "3.10.11"
  },
  "orig_nbformat": 4
 },
 "nbformat": 4,
 "nbformat_minor": 2
}
