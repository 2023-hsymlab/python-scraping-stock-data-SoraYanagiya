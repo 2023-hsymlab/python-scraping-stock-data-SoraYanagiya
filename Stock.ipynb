{
 "cells": [
  {
   "cell_type": "code",
   "execution_count": 10,
   "metadata": {},
   "outputs": [
    {
     "name": "stderr",
     "output_type": "stream",
     "text": [
      "2023-05-10 10:37:06.971 Python[60641:4223201] IMKClient Stall detected, *please Report* your user scenario attaching a spindump (or sysdiagnose) that captures the problem - (imkxpc_dismissFunctionRowItemTextInputViewWithReply:) block performed very slowly (56.44 secs).\n",
      "2023-05-10 10:37:06.971 Python[60641:4223201] IMKClient Stall detected, *please Report* your user scenario attaching a spindump (or sysdiagnose) that captures the problem - (imkxpc_dismissFunctionRowItemTextInputViewWithReply:) block performed very slowly (55.91 secs).\n",
      "2023-05-10 10:37:06.971 Python[60641:4223201] IMKClient Stall detected, *please Report* your user scenario attaching a spindump (or sysdiagnose) that captures the problem - (imkxpc_dismissFunctionRowItemTextInputViewWithReply:) block performed very slowly (55.27 secs).\n",
      "2023-05-10 10:37:06.971 Python[60641:4223201] _TIPropertyValueIsValid called with 4 on nil context!\n",
      "2023-05-10 10:37:06.971 Python[60641:4223201] imkxpc_getApplicationProperty:reply: called with incorrect property value 4, bailing.\n",
      "2023-05-10 10:37:06.971 Python[60641:4223201] Text input context does not respond to _valueForTIProperty:\n",
      "2023-05-10 10:37:06.971 Python[60641:4223201] IMKClient Stall detected, *please Report* your user scenario attaching a spindump (or sysdiagnose) that captures the problem - (imkxpc_dismissFunctionRowItemTextInputViewWithReply:) block performed very slowly (50.48 secs).\n",
      "2023-05-10 10:37:06.971 Python[60641:4223201] IMKClient Stall detected, *please Report* your user scenario attaching a spindump (or sysdiagnose) that captures the problem - (imkxpc_dismissFunctionRowItemTextInputViewWithReply:) block performed very slowly (49.92 secs).\n",
      "2023-05-10 10:37:06.971 Python[60641:4223201] IMKClient Stall detected, *please Report* your user scenario attaching a spindump (or sysdiagnose) that captures the problem - (imkxpc_dismissFunctionRowItemTextInputViewWithReply:) block performed very slowly (49.27 secs).\n",
      "2023-05-10 10:37:09.264 Python[60641:4223201] _TIPropertyValueIsValid called with 4 on nil context!\n",
      "2023-05-10 10:37:09.264 Python[60641:4223201] imkxpc_getApplicationProperty:reply: called with incorrect property value 4, bailing.\n",
      "2023-05-10 10:37:09.264 Python[60641:4223201] Text input context does not respond to _valueForTIProperty:\n",
      "2023-05-10 10:37:09.264 Python[60641:4223201] _TIPropertyValueIsValid called with 4 on nil context!\n",
      "2023-05-10 10:37:09.264 Python[60641:4223201] imkxpc_getApplicationProperty:reply: called with incorrect property value 4, bailing.\n",
      "2023-05-10 10:37:09.264 Python[60641:4223201] Text input context does not respond to _valueForTIProperty:\n"
     ]
    }
   ],
   "source": [
    "import tkinter as tk\n",
    "\n",
    "root = tk.Tk()\n",
    "root.geometry('500x200')\n",
    "\n",
    "text_box = tk.Text()\n",
    "text_box.pack()\n",
    "\n",
    "ok_button = tk.Button(text=\"OK\")\n",
    "ok_button.pack()\n",
    "\n",
    "def ok_click():\n",
    "    input_text = text_box.get( \"1.0\", \"end\")\n",
    "    print(input_text)\n",
    "\n",
    "ok_button[\"command\"] = ok_click\n",
    "\n",
    "root.mainloop()"
   ]
  }
 ],
 "metadata": {
  "kernelspec": {
   "display_name": "Python 3",
   "language": "python",
   "name": "python3"
  },
  "language_info": {
   "codemirror_mode": {
    "name": "ipython",
    "version": 3
   },
   "file_extension": ".py",
   "mimetype": "text/x-python",
   "name": "python",
   "nbconvert_exporter": "python",
   "pygments_lexer": "ipython3",
   "version": "3.9.6"
  },
  "orig_nbformat": 4
 },
 "nbformat": 4,
 "nbformat_minor": 2
}
