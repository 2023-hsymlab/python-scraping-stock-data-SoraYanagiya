{
 "cells": [
  {
   "cell_type": "code",
   "execution_count": 1,
   "metadata": {},
   "outputs": [],
   "source": [
    "import tkinter as tk\n",
    "\n",
    "root = tk.Tk()\n",
    "root.geometry('500x200')\n",
    "\n",
    "text_box = tk.Text()\n",
    "text_box.pack()\n",
    "\n",
    "ok_button = tk.Button(text=\"OK\")\n",
    "ok_button.pack()\n",
    "\n",
    "def ok_click():\n",
    "    input_text = text_box.get( \"1.0\", \"end\")\n",
    "    print(input_text)\n",
    "\n",
    "ok_button[\"command\"] = ok_click\n",
    "\n",
    "root.mainloop()"
   ]
  }
 ],
 "metadata": {
  "kernelspec": {
   "display_name": "Python 3",
   "language": "python",
   "name": "python3"
  },
  "language_info": {
   "codemirror_mode": {
    "name": "ipython",
    "version": 3
   },
   "file_extension": ".py",
   "mimetype": "text/x-python",
   "name": "python",
   "nbconvert_exporter": "python",
   "pygments_lexer": "ipython3",
   "version": "3.9.6"
  },
  "orig_nbformat": 4
 },
 "nbformat": 4,
 "nbformat_minor": 2
}
